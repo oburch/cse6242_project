{
 "cells": [
  {
   "cell_type": "code",
   "execution_count": 1,
   "metadata": {},
   "outputs": [],
   "source": [
    "import pandas as pd\n",
    "import numpy as np\n",
    "from sklearn.datasets import make_blobs\n",
    "from IPython.display import display\n",
    "import ast\n",
    "import jenkspy\n",
    "\n",
    "pd.options.display.max_columns = None"
   ]
  },
  {
   "cell_type": "code",
   "execution_count": 15,
   "metadata": {},
   "outputs": [],
   "source": [
    "##########################################################################\n",
    "#All of these functions are for initial csv processing\n",
    "def ListCleaner(DirtyString):\n",
    "    garbchars = \"!?{}()[]/\\\\\"\n",
    "    \n",
    "    DirtyString = DirtyString.lstrip(\"c\")\n",
    "    \n",
    "    for char in garbchars:\n",
    "        DirtyString = DirtyString.replace(char, \"\")\n",
    "        \n",
    "    DirtyString = \"[\" + DirtyString + \"]\"\n",
    "    \n",
    "    return DirtyString\n",
    "        \n",
    "    \n",
    "def nastyfunction(row):\n",
    "    try:\n",
    "        return ast.literal_eval(row)\n",
    "    except:\n",
    "        return None\n",
    "    \n",
    "def to_1D(series):\n",
    "    return pd.Series([x for _list in series for x in _list])\n",
    "\n",
    "\n",
    "def boolean_df(item_lists, unique_items):\n",
    "    bool_dict = {}\n",
    "    \n",
    "    for i, item in enumerate(unique_items):\n",
    "        \n",
    "            bool_dict[item] = item_lists.apply(lambda x: item in x)\n",
    "            \n",
    "    return pd.DataFrame(bool_dict)\n",
    "##############################################################################   \n",
    "def setCluster(recipeName=\"noinput\"):\n",
    "    if recipeName == \"noinput\":\n",
    "        recipeName = mytempdataset.sample().iloc[0][\"Name\"]\n",
    "        \n",
    "    recipeindex = mytempdataset.index[mytempdataset[\"Name\"] == recipeName].tolist()\n",
    "    \n",
    "    if len(recipeindex) == 0:\n",
    "        print(\"Recipe Not found in list\")\n",
    "        return\n",
    "    \n",
    "    tmptruth = trutharray - trutharray[recipeindex]\n",
    "    tmptruth = np.absolute(tmptruth)\n",
    "    ingdiffs = np.sum(tmptruth, axis=1)\n",
    "    mytempdataset[\"Ingredient Difference\"] = ingdiffs\n",
    "    breaks = jenkspy.jenks_breaks(mytempdataset[\"Ingredient Difference\"], nb_class = 10)\n",
    "    labels = [\"c1\",\"c2\",\"c3\",\"c4\",\"c5\",\"c6\",\"c7\",\"c8\",\"c9\",\"c10\"]\n",
    "    mytempdataset[\"Cluster\"] = pd.cut(mytempdataset[\"Ingredient Difference\"], bins=breaks, labels=labels)\n",
    "    \n",
    "    clusters = {}\n",
    "    \n",
    "    for i in labels:\n",
    "        clusters[i] = {\"nodes\":mytempdataset[mytempdataset[\"Cluster\"]==i],\"weight\":mytempdataset[mytempdataset[\"Cluster\"]==i].shape[0]}\n",
    "        \n",
    "    return clusters"
   ]
  },
  {
   "cell_type": "code",
   "execution_count": 3,
   "metadata": {},
   "outputs": [],
   "source": [
    "#Grab a subset of the data and drop columns we currently aren't interested in\n",
    "mybigfatdataset = pd.read_csv(\"./Recipes/recipes.csv\")\n",
    "myfirstdataset = mybigfatdataset.iloc[0:1000]\n",
    "mytempdataset = myfirstdataset.copy(deep=True)\n",
    "mytempdataset = mytempdataset[[\"Name\",\"RecipeId\",\"Description\",\"RecipeIngredientParts\"]]"
   ]
  },
  {
   "cell_type": "code",
   "execution_count": 4,
   "metadata": {
    "scrolled": true
   },
   "outputs": [],
   "source": [
    "#Clean the column of interest up, this is a disgusting method of cleaning and I don't respect it. But it works for now\n",
    "tmping = mytempdataset[\"RecipeIngredientParts\"].apply(lambda x: ListCleaner(x))\n",
    "mytempdataset.update(tmping)\n",
    "mytempdataset[\"RecipeIngredientParts\"] = mytempdataset[\"RecipeIngredientParts\"].apply(lambda x: nastyfunction(x))\n",
    "mytempdataset = mytempdataset[mytempdataset[\"RecipeIngredientParts\"].notnull()]\n",
    "mytempdataset.reset_index(drop=True, inplace=True)"
   ]
  },
  {
   "cell_type": "code",
   "execution_count": 5,
   "metadata": {},
   "outputs": [],
   "source": [
    "#Get a list of truth data that corresponds to each ingredient and whether or not a recipe uses it\n",
    "IngredientsList = to_1D(mytempdataset[\"RecipeIngredientParts\"]).value_counts()\n",
    "ingbool = boolean_df(mytempdataset[\"RecipeIngredientParts\"],IngredientsList.keys())\n",
    "numpingbool = ingbool.to_numpy()\n",
    "trutharray = numpingbool.astype(int)"
   ]
  },
  {
   "cell_type": "markdown",
   "metadata": {},
   "source": [
    "*************************************************************************************\n",
    "\n",
    "Everything above this markdown should only be ran once. It is all preliminary set up. Use setCluster() below to grab a dictionary of what you want. Input the recipe name to cluster around that recipes ingredient. Running with no input will choose a random recipe.\n",
    "\n",
    "*************************************************************************************"
   ]
  },
  {
   "cell_type": "code",
   "execution_count": 7,
   "metadata": {},
   "outputs": [],
   "source": [
    "tmp = setCluster()"
   ]
  },
  {
   "cell_type": "code",
   "execution_count": 8,
   "metadata": {},
   "outputs": [
    {
     "name": "stdout",
     "output_type": "stream",
     "text": [
      "75\n",
      "                            Name  RecipeId  \\\n",
      "8        A Jad - Cucumber Pickle        46   \n",
      "30                Chicha Peruana        69   \n",
      "48            Breakfast Burritos        88   \n",
      "85               Champagne Punch       129   \n",
      "90   Cherry Sandwich Maker Snack       135   \n",
      "..                           ...       ...   \n",
      "931                Egg Kichelach      1826   \n",
      "949           Fried Cornbread II      1902   \n",
      "964                   Bruschetta      1978   \n",
      "965         Cheese and Onion Pie      1981   \n",
      "980               Ramen Foo Yung      2066   \n",
      "\n",
      "                                           Description  \\\n",
      "8    Make and share this A Jad - Cucumber Pickle re...   \n",
      "30   Chicha (corn beer). Chicha is made in South an...   \n",
      "48   Make and share this Breakfast Burritos recipe ...   \n",
      "85   Here is a good punch recipe for any special oc...   \n",
      "90   Make and share this Cherry Sandwich Maker Snac...   \n",
      "..                                                 ...   \n",
      "931  Make and share this Egg Kichelach recipe from ...   \n",
      "949  Make and share this Fried Cornbread II recipe ...   \n",
      "964  Make and share this Bruschetta recipe from Foo...   \n",
      "965  This is a recipe passed along from my grandmot...   \n",
      "980  Make and share this Ramen Foo Yung recipe from...   \n",
      "\n",
      "                        RecipeIngredientParts  Ingredient Difference Cluster  \n",
      "8                        [rice vinegar, haeo]                      7      c1  \n",
      "30    [piloncillo cone, Nottingham dry yeast]                      7      c1  \n",
      "48   [eggs, country sausage, flour tortillas]                      6      c1  \n",
      "85   [frozen limeade concentrate, ginger ale]                      7      c1  \n",
      "90                           [powdered sugar]                      6      c1  \n",
      "..                                        ...                    ...     ...  \n",
      "931                [eggs, sugar, flour, salt]                      7      c1  \n",
      "949                         [egg, buttermilk]                      7      c1  \n",
      "964      [tomatoes, olive oil, oregano, salt]                      7      c1  \n",
      "965             [onion, sharp cheddar cheese]                      5      c1  \n",
      "980                 [eggs, butter, margarine]                      6      c1  \n",
      "\n",
      "[75 rows x 6 columns]\n"
     ]
    }
   ],
   "source": [
    "print(tmp[\"c1\"][\"weight\"])\n",
    "print(tmp[\"c1\"][\"nodes\"])"
   ]
  },
  {
   "cell_type": "code",
   "execution_count": null,
   "metadata": {},
   "outputs": [],
   "source": []
  }
 ],
 "metadata": {
  "kernelspec": {
   "display_name": "Python 3",
   "language": "python",
   "name": "python3"
  },
  "language_info": {
   "codemirror_mode": {
    "name": "ipython",
    "version": 3
   },
   "file_extension": ".py",
   "mimetype": "text/x-python",
   "name": "python",
   "nbconvert_exporter": "python",
   "pygments_lexer": "ipython3",
   "version": "3.8.5"
  }
 },
 "nbformat": 4,
 "nbformat_minor": 4
}
