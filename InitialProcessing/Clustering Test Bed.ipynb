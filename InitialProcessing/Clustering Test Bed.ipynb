{
 "cells": [
  {
   "cell_type": "code",
   "execution_count": 1,
   "metadata": {},
   "outputs": [],
   "source": [
    "import pandas as pd\n",
    "import numpy as np\n",
    "from sklearn.datasets import make_blobs\n",
    "from IPython.display import display\n",
    "import ast\n",
    "import jenkspy\n",
    "\n",
    "pd.options.display.max_columns = None"
   ]
  },
  {
   "cell_type": "code",
   "execution_count": 2,
   "metadata": {},
   "outputs": [],
   "source": [
    "##########################################################################\n",
    "#All of these functions are for initial csv processing\n",
    "def ListCleaner(DirtyString):\n",
    "    garbchars = \"!?{}()[]/\\\\\"\n",
    "    \n",
    "    DirtyString = DirtyString.lstrip(\"c\")\n",
    "    \n",
    "    for char in garbchars:\n",
    "        DirtyString = DirtyString.replace(char, \"\")\n",
    "        \n",
    "    DirtyString = \"[\" + DirtyString + \"]\"\n",
    "    \n",
    "    return DirtyString\n",
    "        \n",
    "    \n",
    "def nastyfunction(row):\n",
    "    try:\n",
    "        return ast.literal_eval(row)\n",
    "    except:\n",
    "        return None\n",
    "    \n",
    "def to_1D(series):\n",
    "    return pd.Series([x for _list in series for x in _list])\n",
    "\n",
    "\n",
    "def boolean_df(item_lists, unique_items):\n",
    "    bool_dict = {}\n",
    "    \n",
    "    for i, item in enumerate(unique_items):\n",
    "        \n",
    "            bool_dict[item] = item_lists.apply(lambda x: item in x)\n",
    "            \n",
    "    return pd.DataFrame(bool_dict)\n",
    "##############################################################################   \n",
    "def setCluster(recipeName=\"noinput\"):\n",
    "    if recipeName == \"noinput\":\n",
    "        recipeName = mytempdataset.sample().iloc[0][\"Name\"]\n",
    "        \n",
    "    recipeindex = mytempdataset.index[mytempdataset[\"Name\"] == recipeName].tolist()\n",
    "    \n",
    "    if len(recipeindex) == 0:\n",
    "        print(\"Recipe Not found in list\")\n",
    "        return\n",
    "    \n",
    "    tmptruth = trutharray - trutharray[recipeindex]\n",
    "    tmptruth = np.absolute(tmptruth)\n",
    "    ingdiffs = np.sum(tmptruth, axis=1)\n",
    "    mytempdataset[\"Ingredient Difference\"] = ingdiffs\n",
    "    breaks = jenkspy.jenks_breaks(mytempdataset[\"Ingredient Difference\"], nb_class = 10)\n",
    "    labels = [\"c1\",\"c2\",\"c3\",\"c4\",\"c5\",\"c6\",\"c7\",\"c8\",\"c9\",\"c10\"]\n",
    "    mytempdataset[\"Cluster\"] = pd.cut(mytempdataset[\"Ingredient Difference\"], bins=breaks, labels=labels)\n",
    "    \n",
    "    clusters = {}\n",
    "    \n",
    "    for i in labels:\n",
    "        clusters[i] = {\"nodes\":mytempdataset[mytempdataset[\"Cluster\"]==i],\"weight\":mytempdataset[mytempdataset[\"Cluster\"]==i].shape[0]}\n",
    "        \n",
    "    return clusters"
   ]
  },
  {
   "cell_type": "code",
   "execution_count": 3,
   "metadata": {},
   "outputs": [],
   "source": [
    "#Grab a subset of the data and drop columns we currently aren't interested in\n",
    "mybigfatdataset = pd.read_csv(\"../../../Recipes/recipes.csv\")\n",
    "myfirstdataset = mybigfatdataset.sample(n=1000)\n",
    "mytempdataset = myfirstdataset.copy(deep=True)\n",
    "mytempdataset = mytempdataset[[\"Name\",\"RecipeId\",\"Description\",\"RecipeIngredientParts\"]]"
   ]
  },
  {
   "cell_type": "code",
   "execution_count": 4,
   "metadata": {
    "scrolled": true
   },
   "outputs": [],
   "source": [
    "#Clean the column of interest up, this is a disgusting method of cleaning and I don't respect it. But it works for now\n",
    "tmping = mytempdataset[\"RecipeIngredientParts\"].apply(lambda x: ListCleaner(x))\n",
    "mytempdataset.update(tmping)\n",
    "mytempdataset[\"RecipeIngredientParts\"] = mytempdataset[\"RecipeIngredientParts\"].apply(lambda x: nastyfunction(x))\n",
    "mytempdataset = mytempdataset[mytempdataset[\"RecipeIngredientParts\"].notnull()]\n",
    "mytempdataset.reset_index(drop=True, inplace=True)"
   ]
  },
  {
   "cell_type": "code",
   "execution_count": 5,
   "metadata": {},
   "outputs": [],
   "source": [
    "#Get a list of truth data that corresponds to each ingredient and whether or not a recipe uses it\n",
    "IngredientsList = to_1D(mytempdataset[\"RecipeIngredientParts\"]).value_counts()\n",
    "ingbool = boolean_df(mytempdataset[\"RecipeIngredientParts\"],IngredientsList.keys())\n",
    "numpingbool = ingbool.to_numpy()\n",
    "trutharray = numpingbool.astype(int)"
   ]
  },
  {
   "cell_type": "markdown",
   "metadata": {},
   "source": [
    "*************************************************************************************\n",
    "\n",
    "Everything above this markdown should only be ran once. It is all preliminary set up. Use setCluster() below to grab a dictionary of what you want. Input the recipe name to cluster around that recipes ingredient. Running with no input will choose a random recipe.\n",
    "\n",
    "*************************************************************************************"
   ]
  },
  {
   "cell_type": "code",
   "execution_count": 6,
   "metadata": {},
   "outputs": [],
   "source": [
    "tmp = setCluster()"
   ]
  },
  {
   "cell_type": "code",
   "execution_count": 7,
   "metadata": {},
   "outputs": [
    {
     "name": "stdout",
     "output_type": "stream",
     "text": [
      "16\n",
      "                                                  Name  RecipeId  \\\n",
      "50                             Mulberry and Cherry Jam    464630   \n",
      "54                                          Butterbeer    239006   \n",
      "146  Hershey's Hugs & Kisses Chocolate Pound Cake T...     42734   \n",
      "163                       Rave Reviews Hot Fudge Sauce     16826   \n",
      "184          Grilled Angel Food Cake With Strawberries    424488   \n",
      "257                                  Basic Matzoh Brei    215465   \n",
      "289                            Classic Hot Fudge Sauce    409483   \n",
      "333                               Vanilla Almond Glaze    443319   \n",
      "476                                   Nutmeg Meltaways     76868   \n",
      "597                                  Brown Sugar Fudge    436810   \n",
      "646                                    Chocolate Fudge    529623   \n",
      "691                                  Fluffy Orange Pie    282020   \n",
      "702                                             Kisses      6903   \n",
      "789                           Carnation Milk Ice-Cream     64316   \n",
      "846                         Awesome Thumbprint Cookies     33968   \n",
      "912                              Cinnamon Graham Crust    156048   \n",
      "\n",
      "                                           Description  \\\n",
      "50   Make and share this Mulberry and Cherry Jam re...   \n",
      "54   This is just how I thought butterbeer would ta...   \n",
      "146  You'll impress your guests with this one! They...   \n",
      "163  A very smooth sauce. Keeps good in fridge. I m...   \n",
      "184  Saw this recipe in a healthy eating magazine a...   \n",
      "257  From Ruth Reichl's Garlic and Sapphires...easy...   \n",
      "289  This great hot fudge sauce recipe that I chang...   \n",
      "333  I would say that this is one of my favorite gl...   \n",
      "476  Make and share this Nutmeg Meltaways recipe fr...   \n",
      "597  I found this a few years a go on another cooki...   \n",
      "646  Make and share this Chocolate Fudge recipe fro...   \n",
      "691  This is a no bake pie that will be ready to ea...   \n",
      "702   Make and share this Kisses recipe from Food.com.   \n",
      "789  Make and share this Carnation Milk Ice-Cream r...   \n",
      "846  Another recipe my mom cut out and gave to me w...   \n",
      "912  Mom always said make do with what you have, so...   \n",
      "\n",
      "                                 RecipeIngredientParts  Ingredient Difference  \\\n",
      "50                                   [cherries, sugar]                      6   \n",
      "54                                            [butter]                      5   \n",
      "146                          [butter, vanilla extract]                      6   \n",
      "163  [butter, sugar, evaporated milk, light corn sy...                      3   \n",
      "184                              [strawberries, sugar]                      6   \n",
      "257                                     [eggs, butter]                      6   \n",
      "289          [heavy cream, butter, sugar, brown sugar]                      6   \n",
      "333  [confectioners' sugar, butter, evaporated milk...                      6   \n",
      "476  [butter, sugar, vanilla, flour, icing sugar, n...                      6   \n",
      "597  [butter, brown sugar, evaporated milk, vanilla...                      5   \n",
      "646           [sugar, pecans, butter, evaporated milk]                      4   \n",
      "691                             [butter, cream cheese]                      6   \n",
      "702  [butter, sugar, vanilla, flour, confectioners'...                      5   \n",
      "789   [evaporated milk, sugar, vanilla, salt, gelatin]                      5   \n",
      "846                             [butter, sugar, flour]                      5   \n",
      "912  [cinnamon graham crackers, butter, sugar, Sple...                      6   \n",
      "\n",
      "    Cluster  \n",
      "50       c1  \n",
      "54       c1  \n",
      "146      c1  \n",
      "163      c1  \n",
      "184      c1  \n",
      "257      c1  \n",
      "289      c1  \n",
      "333      c1  \n",
      "476      c1  \n",
      "597      c1  \n",
      "646      c1  \n",
      "691      c1  \n",
      "702      c1  \n",
      "789      c1  \n",
      "846      c1  \n",
      "912      c1  \n"
     ]
    }
   ],
   "source": [
    "print(tmp[\"c1\"][\"weight\"])\n",
    "print(tmp[\"c1\"][\"nodes\"])"
   ]
  },
  {
   "cell_type": "code",
   "execution_count": null,
   "metadata": {},
   "outputs": [],
   "source": []
  }
 ],
 "metadata": {
  "kernelspec": {
   "display_name": "Python 3",
   "language": "python",
   "name": "python3"
  },
  "language_info": {
   "codemirror_mode": {
    "name": "ipython",
    "version": 3
   },
   "file_extension": ".py",
   "mimetype": "text/x-python",
   "name": "python",
   "nbconvert_exporter": "python",
   "pygments_lexer": "ipython3",
   "version": "3.8.5"
  }
 },
 "nbformat": 4,
 "nbformat_minor": 4
}
